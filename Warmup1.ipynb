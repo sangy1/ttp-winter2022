{
  "nbformat": 4,
  "nbformat_minor": 0,
  "metadata": {
    "colab": {
      "name": "Warmup1.ipynb",
      "provenance": [],
      "authorship_tag": "ABX9TyOPJzAxh7obwzZrxMvf+bGX",
      "include_colab_link": true
    },
    "kernelspec": {
      "name": "python3",
      "display_name": "Python 3"
    },
    "language_info": {
      "name": "python"
    }
  },
  "cells": [
    {
      "cell_type": "markdown",
      "metadata": {
        "id": "view-in-github",
        "colab_type": "text"
      },
      "source": [
        "<a href=\"https://colab.research.google.com/github/sangy1/ttp-winter2022/blob/main/Warmup1.ipynb\" target=\"_parent\"><img src=\"https://colab.research.google.com/assets/colab-badge.svg\" alt=\"Open In Colab\"/></a>"
      ]
    },
    {
      "cell_type": "code",
      "execution_count": 21,
      "metadata": {
        "colab": {
          "base_uri": "https://localhost:8080/"
        },
        "id": "uYTURrkOkduV",
        "outputId": "06905cf5-153b-4784-cf4a-f255c9502c21"
      },
      "outputs": [
        {
          "output_type": "stream",
          "name": "stdout",
          "text": [
            "llo \n",
            "dlroW olleH\n"
          ]
        }
      ],
      "source": [
        "string1 = \"Hello World\"\n",
        "# 1) Prints 3rd charcter to 5th\n",
        "print(string1[2:5])\n",
        "# 2) Prints reverse\n",
        "print(string1[::-1])"
      ]
    },
    {
      "cell_type": "code",
      "source": [
        "# 3) Print user input in reverse\n",
        "inp = input(\"Enter a string: \")\n",
        "print(inp[::-1])\n",
        "# 4) Print user input in a sentence\n",
        "inp = input(\"Enter a new string: \")\n",
        "print(f\"You have entered: {inp}\")"
      ],
      "metadata": {
        "colab": {
          "base_uri": "https://localhost:8080/"
        },
        "id": "HMoNijwRkmbI",
        "outputId": "86b683e4-2fbe-4103-97d9-0a7edc72d5da"
      },
      "execution_count": null,
      "outputs": [
        {
          "output_type": "stream",
          "name": "stdout",
          "text": [
            "Enter a string: AFEWW\n",
            "WWEFA\n",
            "Enter a new string: SDFE\n",
            "You have entered: SDFE\n"
          ]
        }
      ]
    },
    {
      "cell_type": "code",
      "source": [
        "# 5) Find type of 3 objects\n",
        "obj1 = 2\n",
        "obj2 = \"as\"\n",
        "obj3 = 2.5\n",
        "print(f\"Type of object 1: {type(obj1)} \")\n",
        "print(f\"Type of object 2: {type(obj2)} \")\n",
        "print(f\"Type of object 3: {type(obj3)} \")"
      ],
      "metadata": {
        "colab": {
          "base_uri": "https://localhost:8080/"
        },
        "id": "6r_RSf9Qkrl6",
        "outputId": "6e3402bb-2ed6-47c9-e4a1-899a5370df77"
      },
      "execution_count": null,
      "outputs": [
        {
          "output_type": "stream",
          "name": "stdout",
          "text": [
            "Type of object 1: <class 'int'> \n",
            "Type of object 2: <class 'str'> \n",
            "Type of object 3: <class 'float'> \n"
          ]
        }
      ]
    },
    {
      "cell_type": "code",
      "source": [
        "import math\n",
        "# 6) Add number\n",
        "print(5+4)\n",
        "# 7) find sqrt of 5 numbers\n",
        "print(math.sqrt(1))\n",
        "print(math.sqrt(2))\n",
        "print(math.sqrt(3))\n",
        "print(math.sqrt(4))\n",
        "print(math.sqrt(5))\n",
        "# 8) Find whole # of 5 div problem\n",
        "print(9//1)\n",
        "print(9//2)\n",
        "print(9//3)\n",
        "print(9//4)\n",
        "print(9//5)"
      ],
      "metadata": {
        "colab": {
          "base_uri": "https://localhost:8080/"
        },
        "id": "xYllixkCkwtE",
        "outputId": "864c6b8e-edf0-46d0-c8b7-478f0900bdf4"
      },
      "execution_count": null,
      "outputs": [
        {
          "output_type": "stream",
          "name": "stdout",
          "text": [
            "9\n",
            "1.0\n",
            "1.4142135623730951\n",
            "1.7320508075688772\n",
            "2.0\n",
            "2.23606797749979\n",
            "9\n",
            "4\n",
            "3\n",
            "2\n",
            "1\n"
          ]
        }
      ]
    },
    {
      "cell_type": "code",
      "source": [
        "# 9) Create 2 lists and combine them\n",
        "list1 = [1, 2, 3, 4, \"tomy\"]\n",
        "list2 = [\"ASDF\", \"qewr\", 5]\n",
        "joinedlist = list1 + list2\n",
        "print(joinedlist)\n",
        "# 10) Create 2 arrays and combine them\n",
        "arr1 = (1, 2, 3, 4)\n",
        "arr2 = (5, 65, 874)\n",
        "joinedarr = arr1+arr2\n",
        "print(joinedarr)"
      ],
      "metadata": {
        "colab": {
          "base_uri": "https://localhost:8080/"
        },
        "id": "brCk78BOkza9",
        "outputId": "8ac4cfc9-72ae-45c4-8526-1d6465a1e987"
      },
      "execution_count": 22,
      "outputs": [
        {
          "output_type": "stream",
          "name": "stdout",
          "text": [
            "[1, 2, 3, 4, 'tomy', 'ASDF', 'qewr', 5]\n",
            "(1, 2, 3, 4, 5, 65, 874)\n"
          ]
        }
      ]
    },
    {
      "cell_type": "code",
      "source": [
        "# 11) convert 5 objects to another type\n",
        "var1 = 5\n",
        "var2 = 1.5\n",
        "var3 = \"2\"\n",
        "conv1 = str(var1)\n",
        "conv2 = int(var2)\n",
        "conv3 = float(var1)\n",
        "conv4 = var1 + var2\n",
        "conv5 = float(var3)\n",
        "print(f\"Type of conv1 = {type(conv1)}\") #shows that converts from int to str\n",
        "print(f\"Type of conv2 = {type(conv2)}\") #shows that converts from float to int\n",
        "print(f\"Type of conv3 = {type(conv3)}\") #shows that converts from int to float \n",
        "print(f\"Type of conv4 = {type(conv4)}\") #shows that addition from int to float\n",
        "print(f\"Type of conv5 = {type(conv5)}\") #shows that converts from str to float\n",
        "# 12) convert form lowercase to upercase\n",
        "lowerString = \"abcd\"\n",
        "upperString = lowerString.upper() #converts lowerString to uppercase\n",
        "print(upperString)"
      ],
      "metadata": {
        "colab": {
          "base_uri": "https://localhost:8080/"
        },
        "id": "_Db0optbl4W2",
        "outputId": "dc7ca4ea-6d29-486c-bc54-b68078772262"
      },
      "execution_count": null,
      "outputs": [
        {
          "output_type": "stream",
          "name": "stdout",
          "text": [
            "Type of conv1 = <class 'str'>\n",
            "Type of conv2 = <class 'int'>\n",
            "Type of conv3 = <class 'float'>\n",
            "Type of conv4 = <class 'float'>\n",
            "Type of conv5 = <class 'float'>\n",
            "ABCD\n"
          ]
        }
      ]
    },
    {
      "cell_type": "code",
      "source": [
        "# 13) #Print out python one letter at atime\n",
        "pystring = \"Python\"\n",
        "for i in pystring: # Used for loop to print out each leter\n",
        "  print(i, end='')\n",
        "print(\"\")# space because previous for loop doesnt make new line\n",
        "\n",
        "# 14) Print an object from list of objects\n",
        "obj1 = 2\n",
        "obj2 = \"asdf\"\n",
        "obj3 = 4.5\n",
        "list1 = [obj1, obj2, obj3]\n",
        "print(f\"Printing 3rd object: {list1[2]}\") #prints 3rd object in list\n",
        "\n",
        "# 15) get version of python\n",
        "import sys #from stackoverflow\n",
        "print(sys.version)"
      ],
      "metadata": {
        "colab": {
          "base_uri": "https://localhost:8080/"
        },
        "id": "o9YkLG_Tmq91",
        "outputId": "62124fc5-a887-467b-df55-4bd6f85905c9"
      },
      "execution_count": null,
      "outputs": [
        {
          "output_type": "stream",
          "name": "stdout",
          "text": [
            "Python\n",
            "Printing 3rd object: 4.5\n",
            "3.7.12 (default, Sep 10 2021, 00:21:48) \n",
            "[GCC 7.5.0]\n"
          ]
        }
      ]
    }
  ]
}